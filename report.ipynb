from reportlab.lib.pagesizes import letter
from reportlab.pdfgen import canvas

def generate_lipid_profile_pdf(patient_name, test_results, filename="lipid_profile_report.pdf"):
    c = canvas.Canvas(filename, pagesize=letter)
    c.setFont("Helvetica", 12)

    # Title
    c.drawString(200, 750, "Lipid Profile Blood Test Report")

    # Patient Details
    c.drawString(50, 720, f"Patient Name: {patient_name}")
    c.drawString(50, 700, f"Report Date: 2025-03-29")

    # Column Headers
    c.drawString(50, 670, "Test Name")
    c.drawString(250, 670, "Result (mg/dL)")
    c.drawString(400, 670, "Normal Range")

    y = 650
    for test, values in test_results.items():
        c.drawString(50, y, test)
        c.drawString(250, y, str(values["result"]))
        c.drawString(400, y, values["normal_range"])
        y -= 20

    # Footer
    c.drawString(50, 100, "Doctor's Signature: ____________________")
    
    c.save()
    print(f"PDF saved as {filename}")

# Sample Test Data
lipid_test_results = {
    "Total Cholesterol": {"result": 190, "normal_range": "125-200"},
    "HDL (Good Cholesterol)": {"result": 55, "normal_range": "40-60"},
    "LDL (Bad Cholesterol)": {"result": 110, "normal_range": "50-130"},
    "Triglycerides": {"result": 145, "normal_range": "0-150"},
    "VLDL": {"result": 30, "normal_range": "2-30"},
    "Cholesterol/HDL Ratio": {"result": 3.5, "normal_range": "Below 5.0"},
    "LDL/HDL Ratio": {"result": 2.0, "normal_range": "Below 3.0"},
}

# Generate Report
generate_lipid_profile_pdf("John Doe", lipid_test_results)
